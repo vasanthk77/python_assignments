{
 "cells": [
  {
   "cell_type": "code",
   "execution_count": 14,
   "id": "bfc5a571",
   "metadata": {},
   "outputs": [
    {
     "name": "stdout",
     "output_type": "stream",
     "text": [
      "5\n",
      "43 65 73 46 82\n",
      "61.8\n"
     ]
    }
   ],
   "source": [
    "#1\n",
    "def average(array):\n",
    "    set_array=set(array)\n",
    "    lst_array=list(set_array)\n",
    "    count=len(lst_array)\n",
    "    sum=0\n",
    "    for i in lst_array:\n",
    "        sum=sum+i\n",
    "    \n",
    "    avr=sum/count\n",
    "    return avr\n",
    "\n",
    "n = int(input())\n",
    "arr = list(map(int, input().split()))\n",
    "result = average(arr)\n",
    "print(result)"
   ]
  },
  {
   "cell_type": "code",
   "execution_count": 40,
   "id": "172c6c3e",
   "metadata": {},
   "outputs": [
    {
     "name": "stdout",
     "output_type": "stream",
     "text": [
      "5 2\n",
      "4 5 6 2 7\n",
      "3 4\n",
      "2 1\n",
      "0\n"
     ]
    }
   ],
   "source": [
    "#2\n",
    "integers=list(map(int, input().split()))\n",
    "n=integers[0]\n",
    "m=integers[1]\n",
    "array=list(map(int, input().split( )))\n",
    "A=set(map(int, input().split( )))\n",
    "B=set(map(int, input().split( )))\n",
    "\n",
    "count=0\n",
    "for i in array:\n",
    "    if i in A:\n",
    "        count=count+1\n",
    "    elif i in B:\n",
    "        count=count-1\n",
    "print(count)"
   ]
  },
  {
   "cell_type": "code",
   "execution_count": 50,
   "id": "719b2219",
   "metadata": {},
   "outputs": [
    {
     "name": "stdout",
     "output_type": "stream",
     "text": [
      "4\n",
      "5 6 7 -20\n",
      "5\n",
      "-29 4 5 6 7\n"
     ]
    },
    {
     "data": {
      "text/plain": [
       "{-29, -20, 4}"
      ]
     },
     "execution_count": 50,
     "metadata": {},
     "output_type": "execute_result"
    }
   ],
   "source": [
    "#3\n",
    "M=int(input())\n",
    "set_A=set(map(int, input().split( )))\n",
    "N=int(input())\n",
    "set_B=set(map(int, input().split( )))\n",
    "set_A.symmetric_difference(set_B)"
   ]
  },
  {
   "cell_type": "code",
   "execution_count": 53,
   "id": "13c27ac4",
   "metadata": {},
   "outputs": [
    {
     "name": "stdout",
     "output_type": "stream",
     "text": [
      "5\n",
      "4 5 6 2 7 2\n",
      "4\n",
      "5 2 7 -10\n",
      "-10\n",
      "4\n",
      "6\n"
     ]
    }
   ],
   "source": [
    "#4\n",
    "M=int(input())\n",
    "set_A=set(map(int, input().split( )))\n",
    "N=int(input())\n",
    "set_B=set(map(int, input().split( )))\n",
    "sym_diff=set_A.symmetric_difference(set_B)\n",
    "lst=sorted(list(sym_diff))\n",
    "for i in lst:\n",
    "    print(i)"
   ]
  },
  {
   "cell_type": "code",
   "execution_count": 58,
   "id": "89dd127b",
   "metadata": {},
   "outputs": [
    {
     "name": "stdout",
     "output_type": "stream",
     "text": [
      "5\n",
      "UK India USA Aus UK\n",
      "4\n"
     ]
    }
   ],
   "source": [
    "#5\n",
    "N=int(input())\n",
    "cntry_name=list(map(str, input().split()))\n",
    "cntry_name=set(cntry_name)\n",
    "count=len(list(cntry_name))\n",
    "print(count)"
   ]
  },
  {
   "cell_type": "code",
   "execution_count": 59,
   "id": "85e0c4cd",
   "metadata": {},
   "outputs": [
    {
     "name": "stdout",
     "output_type": "stream",
     "text": [
      "5\n",
      "UK\n",
      "India\n",
      "Japan\n",
      "Australia\n",
      "India\n",
      "4\n"
     ]
    }
   ],
   "source": [
    "N = int(input())\n",
    "cntry = set()\n",
    "for i in range(N):\n",
    "    cntry.add(input())\n",
    "print(len(cntry))"
   ]
  },
  {
   "cell_type": "code",
   "execution_count": 60,
   "id": "820b217e",
   "metadata": {},
   "outputs": [
    {
     "name": "stdout",
     "output_type": "stream",
     "text": [
      "1\n",
      "1\n",
      "1\n",
      "2\n",
      "[[0, 0, 0], [0, 0, 1], [0, 1, 0], [1, 0, 0], [1, 1, 1]]\n"
     ]
    }
   ],
   "source": [
    "x = int(input())\n",
    "y = int(input())\n",
    "z = int(input())\n",
    "n = int(input())\n",
    "ans = [[i, j, k] for i in range(x + 1) for j in range(y + 1) for k in range(z + 1) if i + j + k != n]\n",
    "print(ans)"
   ]
  },
  {
   "cell_type": "code",
   "execution_count": 64,
   "id": "2ad5c73c",
   "metadata": {},
   "outputs": [
    {
     "name": "stdout",
     "output_type": "stream",
     "text": [
      "5\n",
      "4 5 2 6 6\n",
      "5\n"
     ]
    }
   ],
   "source": [
    "n = int(input())\n",
    "arr = map(int, input().split())\n",
    "arr=list(arr)\n",
    "a=max(arr)\n",
    "c=arr.count(a)\n",
    "for i in range(c):\n",
    "    arr.remove(a)\n",
    "print(max(arr))"
   ]
  },
  {
   "cell_type": "code",
   "execution_count": 66,
   "id": "c79801f8",
   "metadata": {},
   "outputs": [
    {
     "name": "stdout",
     "output_type": "stream",
     "text": [
      "10\n",
      "1 2 3 4 5 6 7 8 9 10\n",
      "5\n",
      "remove 9\n",
      "discard 8\n",
      "pop\n",
      "remove 6\n",
      "discard 7\n",
      "24\n"
     ]
    }
   ],
   "source": [
    "n = int(input())\n",
    "s = set(map(int, input().split()))\n",
    "N = int(input())\n",
    "for i in range(N):\n",
    "    command = list(map(str, input().split()))\n",
    "    if command[0] == \"pop\":\n",
    "        s.pop()\n",
    "    elif command[0] == \"remove\":\n",
    "        try:\n",
    "            s.remove(int(command[1]))\n",
    "        except:\n",
    "            continue\n",
    "    elif command[0] == \"discard\":\n",
    "        try:\n",
    "            s.discard(int(command[1]))\n",
    "        except:\n",
    "            continue\n",
    "print(sum(s))"
   ]
  },
  {
   "cell_type": "code",
   "execution_count": 67,
   "id": "59f09020",
   "metadata": {},
   "outputs": [
    {
     "name": "stdout",
     "output_type": "stream",
     "text": [
      "9\n",
      "1 2 3 4 5 6 7 8 9\n",
      "9\n",
      "10 1 2 3 11 21 55 6 8\n",
      "13\n"
     ]
    }
   ],
   "source": [
    "n=int(input())\n",
    "english=set(map(int, input().split()))\n",
    "m=int(input())\n",
    "french=set(map(int, input().split()))\n",
    "print(len(english.union(french)))"
   ]
  },
  {
   "cell_type": "code",
   "execution_count": 69,
   "id": "9d02e434",
   "metadata": {},
   "outputs": [
    {
     "name": "stdout",
     "output_type": "stream",
     "text": [
      "5\n",
      "siya\n",
      "23.5\n",
      "piya\n",
      "34.6\n",
      "riya\n",
      "56.3\n",
      "jiya\n",
      "23.5\n",
      "miya\n",
      "34\n",
      "miya\n"
     ]
    }
   ],
   "source": [
    "dictionary={}\n",
    "lst=[]\n",
    "for students in range(int(input())):\n",
    "    name = input()\n",
    "    score = float(input())\n",
    "    if score in dictionary:\n",
    "        dictionary[score].append(name)\n",
    "    else:\n",
    "        dictionary[score]=[name]\n",
    "    if score not in lst:\n",
    "        lst.append(score)\n",
    "\n",
    "        \n",
    "a=min(lst)\n",
    "lst.remove(a)\n",
    "aa=min(lst)\n",
    "dictionary[aa].sort()\n",
    "for i in dictionary[aa]:\n",
    "    print(i)"
   ]
  },
  {
   "cell_type": "code",
   "execution_count": 70,
   "id": "390328f8",
   "metadata": {},
   "outputs": [
    {
     "name": "stdout",
     "output_type": "stream",
     "text": [
      "9\n",
      "1 2 3 4 5 6 7 8 9\n",
      "9\n",
      "31 43 1 2 3 4 6 8 9\n",
      "7\n"
     ]
    }
   ],
   "source": [
    "n=int(input())\n",
    "english=set(map(int, input().split()))\n",
    "m=int(input())\n",
    "french=set(map(int, input().split()))\n",
    "print(len(english.intersection(french)))"
   ]
  },
  {
   "cell_type": "code",
   "execution_count": 74,
   "id": "4d905e4d",
   "metadata": {
    "scrolled": true
   },
   "outputs": [
    {
     "name": "stdout",
     "output_type": "stream",
     "text": [
      "4\n",
      "jiya 30 50 60\n",
      "piya 40 50 70\n",
      "riya 50 70 30\n",
      "siya 60 70 30\n",
      "piya\n",
      "53.33\n"
     ]
    }
   ],
   "source": [
    "n = int(input())\n",
    "student_marks = {}\n",
    "for i in range(n):\n",
    "    name, *line = input().split()\n",
    "    scores = list(map(float, line))\n",
    "    student_marks[name] = scores\n",
    "query_name = input()\n",
    "tot=0\n",
    "for i  in student_marks[query_name]:\n",
    "    tot=tot+i\n",
    "print(\"{0:.2f}\".format(tot/3))"
   ]
  },
  {
   "cell_type": "code",
   "execution_count": 77,
   "id": "a5f354c4",
   "metadata": {},
   "outputs": [
    {
     "name": "stdout",
     "output_type": "stream",
     "text": [
      "12\n",
      "insert 0 5\n",
      "insert 1 10\n",
      "insert 0 6\n",
      "print\n",
      "[6, 5, 10]\n",
      "remove 6\n",
      "append 9\n",
      "append 1\n",
      "sort\n",
      "print\n",
      "[1, 5, 9, 10]\n",
      "pop\n",
      "reverse\n",
      "print\n",
      "[9, 5, 1]\n"
     ]
    }
   ],
   "source": [
    "N = int(input())\n",
    "lst=[]\n",
    "for i in range(N):\n",
    "    s=input().split()\n",
    "    for i in range(1, len(s)):\n",
    "        s[i]=int(s[i])\n",
    "            \n",
    "    if s[0]==\"append\":\n",
    "        lst.append(s[1])\n",
    "    elif s[0]==\"insert\":\n",
    "        lst.insert(s[1],s[2])\n",
    "    elif s[0]==\"remove\":\n",
    "        lst.remove(s[1])\n",
    "    elif s[0]==\"pop\":\n",
    "        lst.pop()\n",
    "    elif s[0]==\"sort\":\n",
    "        lst.sort()\n",
    "    elif s[0]==\"reverse\":\n",
    "        lst.reverse()\n",
    "    elif s[0]==\"print\":\n",
    "        print(lst)"
   ]
  },
  {
   "cell_type": "code",
   "execution_count": 78,
   "id": "59b0d3b3",
   "metadata": {},
   "outputs": [
    {
     "name": "stdout",
     "output_type": "stream",
     "text": [
      "9\n",
      "1 2 3 4 5 6 7 8 9\n",
      "9\n",
      "10 1 2 3 11 21 55 6 8\n",
      "4\n"
     ]
    }
   ],
   "source": [
    "n=int(input())\n",
    "english=set(map(int, input().split()))\n",
    "m=int(input())\n",
    "french=set(map(int, input().split()))\n",
    "print(len(english.difference(french)))"
   ]
  },
  {
   "cell_type": "code",
   "execution_count": 79,
   "id": "19b894a7",
   "metadata": {},
   "outputs": [
    {
     "name": "stdout",
     "output_type": "stream",
     "text": [
      "9\n",
      "1 2 3 4 5 6 7 8 9\n",
      "9\n",
      "10 1 2 3 11 21 55 6 8\n",
      "8\n"
     ]
    }
   ],
   "source": [
    "n=int(input())\n",
    "english=set(map(int, input().split()))\n",
    "m=int(input())\n",
    "french=set(map(int, input().split()))\n",
    "print(len(english.symmetric_difference(french)))"
   ]
  },
  {
   "cell_type": "code",
   "execution_count": 80,
   "id": "0a8d9bb8",
   "metadata": {},
   "outputs": [
    {
     "name": "stdout",
     "output_type": "stream",
     "text": [
      "2\n",
      "1 2\n",
      "-3550055125485641917\n"
     ]
    }
   ],
   "source": [
    "n = int(input())\n",
    "integer_list = map(int, input().split())\n",
    "integer_list=tuple(integer_list)\n",
    "print(hash(integer_list))"
   ]
  },
  {
   "cell_type": "code",
   "execution_count": 84,
   "id": "c2f4339a",
   "metadata": {},
   "outputs": [
    {
     "name": "stdout",
     "output_type": "stream",
     "text": [
      "3\n",
      "5\n",
      "1 2 3 5 6\n",
      "9\n",
      "9 8 5 6 3 2 1 4 7\n",
      "True\n",
      "1\n",
      "2\n",
      "5\n",
      "3 6 5 4 1\n",
      "False\n",
      "7\n",
      "1 2 3 5 6 8 9\n",
      "3\n",
      "9 8 2\n",
      "False\n"
     ]
    }
   ],
   "source": [
    "for i in range(int(input())):\n",
    "    a = int(input())\n",
    "    set_a = set(map(int, input().split()))\n",
    "    b = int(input())\n",
    "    set_b = set(map(int, input().split()))\n",
    "    if len(set_a - set_b) == 0:\n",
    "        print(\"True\")\n",
    "    else:\n",
    "        print(\"False\")"
   ]
  },
  {
   "cell_type": "code",
   "execution_count": 86,
   "id": "0c2f3112",
   "metadata": {},
   "outputs": [
    {
     "name": "stdout",
     "output_type": "stream",
     "text": [
      "16\n",
      "1 2 3 4 5 6 7 8 9 10 11 12 13 14 24 52\n",
      "4\n",
      "intersection_update 10\n",
      "2 3 5 6 8 9 1 4 7 11\n",
      "update 2\n",
      "55 66\n",
      "symmetric_difference_update 5\n",
      "22 7 35 62 58\n",
      "difference_update 7\n",
      "11 22 35 55 58 62 66\n",
      "38\n"
     ]
    }
   ],
   "source": [
    "#set mutation\n",
    "n=int(input())\n",
    "A=set(map(int, input().split()))\n",
    "N=int(input())\n",
    "for i in range(N):\n",
    "    command=list(map(str, input().split()))\n",
    "    if command[0]=='update':\n",
    "        A.update(set(map(int, input().split())))\n",
    "    elif command[0]=='intersection_update':\n",
    "        A.intersection_update(set(map(int, input().split())))\n",
    "    elif command[0]=='difference_update':\n",
    "        A.difference_update(set(map(int, input().split())))\n",
    "    elif command[0]=='symmetric_difference_update':\n",
    "        A.symmetric_difference_update(set(map(int, input().split())))\n",
    "print(sum(A))"
   ]
  },
  {
   "cell_type": "code",
   "execution_count": 87,
   "id": "1bdedf49",
   "metadata": {},
   "outputs": [
    {
     "name": "stdout",
     "output_type": "stream",
     "text": [
      "1 2 3 4 5 6 7 8 9 10 11 12 23 45 84 78\n",
      "2\n",
      "1 2 3 4 5\n",
      "100 11 12\n",
      "False\n"
     ]
    }
   ],
   "source": [
    "A=set(map(int, input().split()))\n",
    "n=int(input())\n",
    "\n",
    "N1=set(map(int, input().split()))\n",
    "N2=set(map(int, input().split()))    \n",
    "if (A.issuperset(N1)) and (A.issuperset(N2)):\n",
    "    print(True)\n",
    "else:\n",
    "    print(False)"
   ]
  },
  {
   "cell_type": "code",
   "execution_count": 101,
   "id": "14504d91",
   "metadata": {},
   "outputs": [
    {
     "name": "stdout",
     "output_type": "stream",
     "text": [
      "3\n",
      "1 2 3 1 2 3 1 2 3 4\n",
      "4\n"
     ]
    }
   ],
   "source": [
    "K=int(input())\n",
    "room_list=list(map(int, input().split()))\n",
    "unique_rooms=dict()\n",
    "for i in room_list:\n",
    "    if i not in unique_rooms:\n",
    "        unique_rooms[i]=1\n",
    "    else:\n",
    "        unique_rooms[i]+=1\n",
    "        \n",
    "for room_no, count in unique_rooms.items():\n",
    "    if count==1:\n",
    "        print(room_no)"
   ]
  }
 ],
 "metadata": {
  "kernelspec": {
   "display_name": "Python 3 (ipykernel)",
   "language": "python",
   "name": "python3"
  },
  "language_info": {
   "codemirror_mode": {
    "name": "ipython",
    "version": 3
   },
   "file_extension": ".py",
   "mimetype": "text/x-python",
   "name": "python",
   "nbconvert_exporter": "python",
   "pygments_lexer": "ipython3",
   "version": "3.9.12"
  }
 },
 "nbformat": 4,
 "nbformat_minor": 5
}
