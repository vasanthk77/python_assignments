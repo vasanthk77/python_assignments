{
 "cells": [
  {
   "cell_type": "code",
   "execution_count": null,
   "id": "a2aa07b3",
   "metadata": {},
   "outputs": [],
   "source": [
    "#polar coordinates\n",
    "import cmath\n",
    "print(*cmath.polar(complex(input())),sep='\\n')"
   ]
  },
  {
   "cell_type": "code",
   "execution_count": null,
   "id": "e26deae0",
   "metadata": {},
   "outputs": [],
   "source": [
    "##trianlge quest\n",
    "for i in range(1,int(input())+1): #More than 2 lines will result in 0 score. Do not leave a blank line also\n",
    "    print ((((10**i)-1)//(9))**2)"
   ]
  },
  {
   "cell_type": "code",
   "execution_count": null,
   "id": "eb0911fb",
   "metadata": {},
   "outputs": [],
   "source": [
    "#mod divmod\n",
    "a=int(input())\n",
    "b=int(input())\n",
    "res= divmod(a,b)\n",
    "print(str(res[0])+\"\\n\"+ str(res[1])+\"\\n\"+str(res))\n",
    "     "
   ]
  },
  {
   "cell_type": "code",
   "execution_count": null,
   "id": "de8f610b",
   "metadata": {},
   "outputs": [],
   "source": [
    "#mod power\n",
    "a=int (input())\n",
    "b=int (input())\n",
    "res=int (input())\n",
    "print(a**b)\n",
    "print((a**b)%res)\n",
    "     "
   ]
  },
  {
   "cell_type": "code",
   "execution_count": null,
   "id": "7aaf1eec",
   "metadata": {},
   "outputs": [],
   "source": [
    "#interger in all size\n",
    "a=int(input())\n",
    "b=int(input())\n",
    "c=int(input())\n",
    "d=int(input())\n",
    "print(str( a**b + c**d))\n",
    "     "
   ]
  },
  {
   "cell_type": "code",
   "execution_count": null,
   "id": "a6f69962",
   "metadata": {},
   "outputs": [],
   "source": [
    "#triangke quest\n",
    "for i in range(1,int(input())): #More than 2 lines will result in 0 score. Do not leave a blank line also\n",
    "    print(i*((10**i-1)//9))"
   ]
  },
  {
   "cell_type": "code",
   "execution_count": null,
   "id": "7b666cc5",
   "metadata": {},
   "outputs": [],
   "source": []
  },
  {
   "cell_type": "code",
   "execution_count": null,
   "id": "c96b2f1c",
   "metadata": {},
   "outputs": [],
   "source": []
  },
  {
   "cell_type": "code",
   "execution_count": null,
   "id": "20c8fd3e",
   "metadata": {},
   "outputs": [],
   "source": []
  },
  {
   "cell_type": "code",
   "execution_count": null,
   "id": "9ac0eb7d",
   "metadata": {},
   "outputs": [],
   "source": []
  }
 ],
 "metadata": {
  "kernelspec": {
   "display_name": "Python 3 (ipykernel)",
   "language": "python",
   "name": "python3"
  },
  "language_info": {
   "codemirror_mode": {
    "name": "ipython",
    "version": 3
   },
   "file_extension": ".py",
   "mimetype": "text/x-python",
   "name": "python",
   "nbconvert_exporter": "python",
   "pygments_lexer": "ipython3",
   "version": "3.9.12"
  }
 },
 "nbformat": 4,
 "nbformat_minor": 5
}
