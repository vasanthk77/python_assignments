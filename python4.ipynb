{
 "cells": [
  {
   "cell_type": "code",
   "execution_count": null,
   "id": "bc145188",
   "metadata": {},
   "outputs": [],
   "source": [
    "#1\n",
    "def swap_case(s):\n",
    "    a=s.split()\n",
    "    a=\" \".join(a)\n",
    "    return a.swapcase()\n",
    "\n",
    "s = input()\n",
    "result = split_and_join(s)\n",
    "print(result)"
   ]
  },
  {
   "cell_type": "code",
   "execution_count": null,
   "id": "678a6b74",
   "metadata": {},
   "outputs": [],
   "source": [
    "#2\n",
    "def split_and_join(line):\n",
    "    a=line.split()\n",
    "    a=\"-\".join(a)\n",
    "    return a\n",
    "\n",
    "line = input()\n",
    "result = split_and_join(line)\n",
    "print(result)"
   ]
  },
  {
   "cell_type": "code",
   "execution_count": null,
   "id": "85ccee32",
   "metadata": {},
   "outputs": [],
   "source": [
    "#3\n",
    "def print_full_name(first, last):\n",
    "    print(\"Hello {} {}! You just delved into python.\".format(first,last))\n",
    "\n",
    "first_name = input()\n",
    "last_name = input()\n",
    "print_full_name(first_name, last_name)"
   ]
  },
  {
   "cell_type": "code",
   "execution_count": null,
   "id": "e41377c5",
   "metadata": {},
   "outputs": [],
   "source": [
    "#4\n",
    "def mutate_string(string, position, character):\n",
    "    str_lst=list(string)\n",
    "    str_lst[position]=character\n",
    "    string=\"\".join(str_lst)\n",
    "    return string\n",
    "\n",
    "s = input()\n",
    "i, c = input().split()\n",
    "s_new = mutate_string(s, int(i), c)\n",
    "print(s_new)"
   ]
  },
  {
   "cell_type": "code",
   "execution_count": 10,
   "id": "9798e5cb",
   "metadata": {},
   "outputs": [
    {
     "name": "stdout",
     "output_type": "stream",
     "text": [
      "ajaajamehupyarajaajaja\n",
      "aja\n",
      "5\n"
     ]
    }
   ],
   "source": [
    "#5\n",
    "def count_substring(string, sub_string):\n",
    "    len_str=len(string)\n",
    "    len_sub_str=len(sub_string)\n",
    "    c=0\n",
    "    for i in range((len_str-len_sub_str)+1):\n",
    "        if (string[i:(i+len_sub_str)]==sub_string):\n",
    "            c+=1\n",
    "    return c\n",
    "\n",
    "string = input().strip()\n",
    "sub_string = input().strip()\n",
    "count = count_substring(string, sub_string)\n",
    "print(count)"
   ]
  },
  {
   "cell_type": "code",
   "execution_count": null,
   "id": "d47050de",
   "metadata": {},
   "outputs": [],
   "source": [
    "#6\n",
    "s=input()\n",
    "print(any([i.isalnum() for i in s]))\n",
    "print(any([i.isalpha() for i in s]))\n",
    "print(any([i.isnumeric() for i in s]))\n",
    "print(any([i.islower() for i in s]))\n",
    "print(any([i.isupper() for i in s]))"
   ]
  },
  {
   "cell_type": "code",
   "execution_count": null,
   "id": "35adfc16",
   "metadata": {},
   "outputs": [],
   "source": [
    "#7\n",
    "thickness = int(input()) #This must be an odd number\n",
    "c = 'H'\n",
    "\n",
    "#Top Cone\n",
    "for i in range(thickness):\n",
    "    print((c*i).rjust(thickness-1)+c+(c*i).ljust(thickness-1))\n",
    "    \n",
    "#Top Pillars\n",
    "for i in range(thickness+1):\n",
    "    print((c*thickness).center(thickness*2)+(c*thickness).center(thickness*6))\n",
    "\n",
    "#Middle Belt\n",
    "for i in range((thickness+1)//2):\n",
    "    print((c*thickness*5).center(thickness*6))    \n",
    "\n",
    "#Bottom Pillars\n",
    "for i in range(thickness+1):\n",
    "    print((c*thickness).center(thickness*2)+(c*thickness).center(thickness*6))    \n",
    "\n",
    "#Bottom Cone\n",
    "for i in range(thickness):\n",
    "    print(((c*(thickness-i-1)).rjust(thickness)+c+(c*(thickness-i-1)).ljust(thickness)).rjust(thickness*6))"
   ]
  },
  {
   "cell_type": "code",
   "execution_count": null,
   "id": "5267defb",
   "metadata": {},
   "outputs": [],
   "source": [
    "#8\n",
    "import textwrap\n",
    "def wrap(string, max_width):\n",
    "    wraped_string=textwrap.fill(string, max_width)\n",
    "    return wraped_string\n",
    "    \n",
    "\n",
    "string, max_width = input(), int(input())\n",
    "result = wrap(string, max_width)\n",
    "print(result)"
   ]
  },
  {
   "cell_type": "code",
   "execution_count": null,
   "id": "5e1ba890",
   "metadata": {},
   "outputs": [],
   "source": [
    "#9\n",
    "def print_formatted(number):\n",
    "    n=len(\"{0:b}\".format(number))\n",
    "    for i in range(1, number+1):\n",
    "        print(\"{0:{n}d} {0:{n}o} {0:{n}X} {0:{n}b}\".format(i, n=n))\n",
    "\n",
    "n = int(input())\n",
    "print_formatted(n)"
   ]
  },
  {
   "cell_type": "code",
   "execution_count": null,
   "id": "09358e18",
   "metadata": {},
   "outputs": [],
   "source": [
    "#10\n",
    "def solve(s):\n",
    "    l=s.split(\" \")\n",
    "    s=\"\"\n",
    "    for i in l:\n",
    "        s=s+i.capitalize()+ \" \"\n",
    "    return s\n",
    "\n",
    "\n",
    "s = input()\n",
    "result = solve(s)\n",
    "print(result)"
   ]
  },
  {
   "cell_type": "code",
   "execution_count": null,
   "id": "31cafe99",
   "metadata": {},
   "outputs": [],
   "source": [
    "#11\n",
    "def minion_game(string):\n",
    "    s=len(string)\n",
    "    cons=0\n",
    "    vow=0\n",
    "    \n",
    "    #count of vowels and consonunts\n",
    "    for i in range(s):\n",
    "        if string[i] in \"AEIOU\":\n",
    "            vow=vow+(s-i)\n",
    "        else:\n",
    "            cons=cons+(s-i)\n",
    "    \n",
    "    #print winner name and score\n",
    "    if cons>vow:\n",
    "        print(\"Stuart {}\".format(cons))\n",
    "    elif vow>cons:\n",
    "        print(\"Kevin {}\".format(vow))\n",
    "    else:\n",
    "        print(\"Draw\")\n",
    "\n",
    "s = input()\n",
    "minion_game(s)"
   ]
  },
  {
   "cell_type": "code",
   "execution_count": null,
   "id": "24143b47",
   "metadata": {},
   "outputs": [],
   "source": [
    "#12\n",
    "def merge_the_tools(string, k):\n",
    "    c=0\n",
    "    s=''\n",
    "    for i in string:\n",
    "        if i not in s:\n",
    "            s=s+i\n",
    "        c+=1\n",
    "        if c==k:\n",
    "            print(s)\n",
    "            \n",
    "            c=0\n",
    "            s=''\n",
    "\n",
    "string, k = input(), int(input())\n",
    "merge_the_tools(string, k)"
   ]
  },
  {
   "cell_type": "code",
   "execution_count": null,
   "id": "d99f0839",
   "metadata": {},
   "outputs": [],
   "source": [
    "#13\n",
    "def print_rangoli(size):\n",
    "    pattern = '-'.join(chr(ch) for ch in reversed(range(ord('a'), ord('a') + size)))\n",
    "    layers = []\n",
    "    for limit in range(1, size*2, 2):\n",
    "        layer = f'{pattern[:limit]}{pattern[:limit - 1][::-1]}'\n",
    "        layers.append(f'{layer:-^{size * 4 - 3}}')\n",
    "        print(layers[-1])\n",
    "    print('\\n'.join(reversed(layers[:-1])))\n",
    "    \n",
    "    \n",
    "n = int(input())\n",
    "print_rangoli(n)"
   ]
  },
  {
   "cell_type": "code",
   "execution_count": null,
   "id": "5b11d4d9",
   "metadata": {},
   "outputs": [],
   "source": [
    "#14\n",
    "input_= list(map(int, input().rstrip().split()))\n",
    "lines=input_[0]\n",
    "dots=input_[1]\n",
    "t=(dots-7)//2\n",
    "k=(lines//2)+1\n",
    "for i in range (1, lines+1):\n",
    "    if i==k:        \n",
    "        print('-'*t+'WELCOME'+'-'*t)\n",
    "    elif(i<k):\n",
    "        print('---'*(k-i)+('.|.'*(i))+('.|.'*(i-1))+('---'*(k-i)))\n",
    "    else:\n",
    "        print(('---'*(i-k))+('.|.'*(lines-i+1))+('.|.'*(lines-i))+('---'*(i-k)))"
   ]
  },
  {
   "cell_type": "code",
   "execution_count": null,
   "id": "254d92d2",
   "metadata": {},
   "outputs": [],
   "source": []
  }
 ],
 "metadata": {
  "kernelspec": {
   "display_name": "Python 3 (ipykernel)",
   "language": "python",
   "name": "python3"
  },
  "language_info": {
   "codemirror_mode": {
    "name": "ipython",
    "version": 3
   },
   "file_extension": ".py",
   "mimetype": "text/x-python",
   "name": "python",
   "nbconvert_exporter": "python",
   "pygments_lexer": "ipython3",
   "version": "3.9.12"
  }
 },
 "nbformat": 4,
 "nbformat_minor": 5
}
