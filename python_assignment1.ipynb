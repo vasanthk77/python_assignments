{
 "cells": [
  {
   "cell_type": "code",
   "execution_count": 1,
   "id": "6b406ad6",
   "metadata": {},
   "outputs": [
    {
     "name": "stdout",
     "output_type": "stream",
     "text": [
      "Hello, World!\n"
     ]
    }
   ],
   "source": [
    "### ass1\n",
    "## problem 1\n",
    "myname=\"Hello, World!\"\n",
    "print(myname)\n"
   ]
  },
  {
   "cell_type": "code",
   "execution_count": 2,
   "id": "64398ead",
   "metadata": {},
   "outputs": [
    {
     "name": "stdout",
     "output_type": "stream",
     "text": [
      "enter the number3\n",
      "Weird\n"
     ]
    }
   ],
   "source": [
    "#problem2\n",
    "n = int(input(\"enter the number\").strip())\n",
    "\n",
    "if n % 2 == 1:\n",
    "    print(\"Weird\")\n",
    "elif n in range(2, 6):\n",
    "    print(\"Not Weird\")\n",
    "elif n in range(6, 21):\n",
    "    print(\"Weird\")\n",
    "else:\n",
    "    print(\"Not Weird\")"
   ]
  },
  {
   "cell_type": "code",
   "execution_count": 3,
   "id": "1e87e7bc",
   "metadata": {},
   "outputs": [
    {
     "name": "stdout",
     "output_type": "stream",
     "text": [
      "enter the number a=3\n",
      "enter the number b=6\n",
      "9\n",
      "-3\n",
      "18\n"
     ]
    }
   ],
   "source": [
    "#problem3\n",
    "a = int(input(\"enter the number a=\"))\n",
    "b = int(input(\"enter the number b=\"))\n",
    "\n",
    "print(a + b)\n",
    "print(a - b)\n",
    "print(a * b)"
   ]
  },
  {
   "cell_type": "code",
   "execution_count": 4,
   "id": "c98d99ff",
   "metadata": {},
   "outputs": [
    {
     "name": "stdout",
     "output_type": "stream",
     "text": [
      "enter the number a=3\n",
      "enter the number b=9\n",
      "0\n",
      "0.3333333333333333\n"
     ]
    }
   ],
   "source": [
    "#problem 4\n",
    "a = int(input(\"enter the number a=\"))\n",
    "b = int(input(\"enter the number b=\"))\n",
    "print(a // b)\n",
    "print(a / b)"
   ]
  },
  {
   "cell_type": "code",
   "execution_count": 5,
   "id": "a43e4131",
   "metadata": {},
   "outputs": [
    {
     "name": "stdout",
     "output_type": "stream",
     "text": [
      "enter the number n5\n",
      "0\n",
      "1\n",
      "4\n",
      "9\n",
      "16\n"
     ]
    }
   ],
   "source": [
    "#5problem5\n",
    "n = int(input(\"enter the number n\"))\n",
    "for i in range(n):\n",
    "    print(i ** 2)"
   ]
  },
  {
   "cell_type": "code",
   "execution_count": 6,
   "id": "93aadf3c",
   "metadata": {},
   "outputs": [
    {
     "name": "stdout",
     "output_type": "stream",
     "text": [
      "enter the year2009\n",
      "False\n"
     ]
    }
   ],
   "source": [
    "#probolem 6\n",
    "def is_leap(year):\n",
    "    if year % 4 == 0 and (year % 100 != 0 or year % 400 == 0):\n",
    "        # year is divisible by 4 and not divisible by 100, or is divisible by 400\n",
    "        return True\n",
    "    else:\n",
    "        # year is not a leap year\n",
    "        return False\n",
    "\n",
    "year = int(input(\"enter the year\"))\n",
    "print(is_leap(year))"
   ]
  },
  {
   "cell_type": "code",
   "execution_count": 7,
   "id": "5f42a880",
   "metadata": {},
   "outputs": [
    {
     "name": "stdout",
     "output_type": "stream",
     "text": [
      "enter the number n=8\n",
      "12345678\n"
     ]
    }
   ],
   "source": [
    "#problem 7\n",
    "n=int(input(\"enter the number n=\"))\n",
    "    \n",
    "a= list(range(1, n+1))\n",
    "b_str = \"\".join(map(str, a))\n",
    "print(b_str)"
   ]
  },
  {
   "cell_type": "code",
   "execution_count": null,
   "id": "add9dee7",
   "metadata": {},
   "outputs": [],
   "source": []
  }
 ],
 "metadata": {
  "kernelspec": {
   "display_name": "Python 3 (ipykernel)",
   "language": "python",
   "name": "python3"
  },
  "language_info": {
   "codemirror_mode": {
    "name": "ipython",
    "version": 3
   },
   "file_extension": ".py",
   "mimetype": "text/x-python",
   "name": "python",
   "nbconvert_exporter": "python",
   "pygments_lexer": "ipython3",
   "version": "3.9.12"
  }
 },
 "nbformat": 4,
 "nbformat_minor": 5
}
