{
 "cells": [
  {
   "cell_type": "code",
   "execution_count": null,
   "id": "7da66fce",
   "metadata": {},
   "outputs": [],
   "source": [
    "#1\n",
    "test=int(input())\n",
    "for i in range(test):\n",
    "    print(re.search('([-\\+])?\\d*\\.\\d+', input()) is not None)"
   ]
  },
  {
   "cell_type": "code",
   "execution_count": null,
   "id": "cfb9fb3c",
   "metadata": {},
   "outputs": [],
   "source": [
    "#2\n",
    "regex_pattern = \"[.,]+\"\n",
    "print(\"\\n\".join(re.split(regex_pattern, input())))"
   ]
  },
  {
   "cell_type": "code",
   "execution_count": null,
   "id": "ba104de8",
   "metadata": {},
   "outputs": [],
   "source": [
    "#3\n",
    "pattern=r\"([a-zA-Z0-9])\\1+\"\n",
    "string=input()\n",
    "res = re.search(pattern, string)\n",
    "if res:\n",
    "    print(res.group(1))\n",
    "else:\n",
    "    print(-1)"
   ]
  },
  {
   "cell_type": "code",
   "execution_count": null,
   "id": "3505cd74",
   "metadata": {},
   "outputs": [],
   "source": [
    "#4\n",
    "string=input().strip()\n",
    "res=re.findall(r'(?<=[qwrtypsdfghjklzxcvbnm])([aeiou]{2,})(?=[qwrtypsdfghjklzxcvbnm])', string, re.IGNORECASE)\n",
    "if res:\n",
    "    for i in res:\n",
    "        print(i)\n",
    "else:\n",
    "    print(-1)"
   ]
  },
  {
   "cell_type": "code",
   "execution_count": null,
   "id": "18ca3d42",
   "metadata": {},
   "outputs": [],
   "source": [
    "#5\n",
    "import re\n",
    "S, k = input(), input()\n",
    "matching=re.finditer(r'(?=(' + k + '))', S)\n",
    "res = False\n",
    "for match in matching:\n",
    "    res = True\n",
    "    print((match.start(1), match.end(1)-1))\n",
    "\n",
    "if res == False:\n",
    "    print((-1, -1))"
   ]
  },
  {
   "cell_type": "code",
   "execution_count": null,
   "id": "45f998fd",
   "metadata": {},
   "outputs": [],
   "source": [
    "#6\n",
    "def substitute(match):\n",
    "    if match.group(1) == '&&':\n",
    "        return 'and'\n",
    "    else:\n",
    "        return 'or'\n",
    "\n",
    "\n",
    "N=int(input())\n",
    "for i in range(N):\n",
    "    S=input()\n",
    "    print(re.sub(r\"(?<= )(\\|\\||&&)(?= )\", substitute, S))"
   ]
  },
  {
   "cell_type": "code",
   "execution_count": 31,
   "id": "82c242d8",
   "metadata": {},
   "outputs": [
    {
     "name": "stdout",
     "output_type": "stream",
     "text": [
      "CD\n",
      "True\n"
     ]
    }
   ],
   "source": [
    "#7\n",
    "digits= '(I[VX]|V?I{0,3})'\n",
    "tens= '(X[CL]|L?X{0,3})'\n",
    "hundreds= '(C[MD]|D?C{0,3})'\n",
    "thousands= 'M{0,3}'\n",
    "regex_pattern = r\"%s%s%s%s$\" % (thousands, hundreds, tens, digits)\n",
    "import re\n",
    "print(str(bool(re.match(regex_pattern, input()))))"
   ]
  },
  {
   "cell_type": "code",
   "execution_count": null,
   "id": "aec173a8",
   "metadata": {},
   "outputs": [],
   "source": [
    "#8\n",
    "N=int(input())\n",
    "for i in range(N):\n",
    "    S=input()\n",
    "    if (len(S)==10) and (S.isdigit()):\n",
    "        match=re.findall(r\"^[789]\\d{9}$\",S)\n",
    "        if len(match)==1:\n",
    "            print(\"YES\")\n",
    "        else:\n",
    "            print(\"NO\")\n",
    "    else:\n",
    "        print(\"NO\")"
   ]
  },
  {
   "cell_type": "code",
   "execution_count": null,
   "id": "5b5f19f5",
   "metadata": {},
   "outputs": [],
   "source": [
    "#9\n",
    "N = int(input())\n",
    "for i in range(N):\n",
    "    name, email=input().split()\n",
    "    pattern=\"<[a-z][a-zA-Z0-9\\-\\.\\_]+@[a-zA-Z]+\\.[a-zA-Z]{1,3}>\"\n",
    "    if bool(re.match(pattern, email)):\n",
    "        print(name,email)"
   ]
  },
  {
   "cell_type": "code",
   "execution_count": null,
   "id": "cd7d967a",
   "metadata": {},
   "outputs": [],
   "source": [
    "#10\n",
    "T=int(input())\n",
    "for i in range(T):\n",
    "    S=input()\n",
    "    if S.isalnum() and len(S) == 10:\n",
    "        if bool(re.search(r'(.*[A-Z]){2,}',S)) and bool(re.search(r'(.*[0-9]){3,}',S)):\n",
    "            if re.search(r'.*(.).*\\1+.*',S):\n",
    "                print('Invalid')\n",
    "            else:\n",
    "                print('Valid')\n",
    "        else:\n",
    "            print('Invalid')\n",
    "    else:\n",
    "        print('Invalid')"
   ]
  },
  {
   "cell_type": "code",
   "execution_count": null,
   "id": "2fbe3949",
   "metadata": {},
   "outputs": [],
   "source": [
    "#11\n",
    "N=int(input())\n",
    "for i in range(N):\n",
    "    S=input()\n",
    "    match=re.search(r'^[456]\\d{3}(-?)\\d{4}\\1\\d{4}\\1\\d{4}$',S)\n",
    "    if match:\n",
    "        match_join= \"\".join(match.group(0).split('-'))\n",
    "        final_match = re.search(r'(\\d)\\1{3,}',match_join)\n",
    "        if final_match:\n",
    "            print('Invalid')\n",
    "        else :\n",
    "            print('Valid')\n",
    "    else:\n",
    "        print('Invalid')"
   ]
  },
  {
   "cell_type": "code",
   "execution_count": 60,
   "id": "aa79589b",
   "metadata": {},
   "outputs": [
    {
     "name": "stdout",
     "output_type": "stream",
     "text": [
      "121212\n",
      "False\n"
     ]
    }
   ],
   "source": [
    "#12\n",
    "regex_integer_in_range = r\"^[1-9][\\d]{5}\"\n",
    "regex_alternating_repetitive_digit_pair = r\"(\\d)(?=\\d\\1)\"\n",
    "\n",
    "P = input()\n",
    "print (bool(re.match(regex_integer_in_range, P)) and len(re.findall(regex_alternating_repetitive_digit_pair, P)) < 2)"
   ]
  },
  {
   "cell_type": "code",
   "execution_count": 103,
   "id": "ee57a44e",
   "metadata": {},
   "outputs": [
    {
     "name": "stdout",
     "output_type": "stream",
     "text": [
      "7 3\n",
      "Tsi\n",
      "h%x\n",
      "i #\n",
      "sM\n",
      "$a\n",
      "#t%\n",
      "ir!\n",
      "This is Matr\n"
     ]
    }
   ],
   "source": [
    "#matrix script\n",
    "first_multiple_input = input().rstrip().split()\n",
    "n = int(first_multiple_input[0])\n",
    "m = int(first_multiple_input[1])\n",
    "matrix=[]\n",
    "\n",
    "for _ in range(n):\n",
    "    matrix_item = input()\n",
    "    matrix.append(matrix_item)\n",
    "\n",
    "matrix = list(zip(*matrix))\n",
    "\n",
    "sample = str()\n",
    "\n",
    "for words in matrix:\n",
    "    for char in words:\n",
    "        sample += char\n",
    "\n",
    "print(re.sub(r'(?<=\\w)([^\\w\\d]+)(?=\\w)', ' ', sample))"
   ]
  },
  {
   "cell_type": "code",
   "execution_count": null,
   "id": "2306dd9d",
   "metadata": {},
   "outputs": [],
   "source": []
  }
 ],
 "metadata": {
  "kernelspec": {
   "display_name": "Python 3 (ipykernel)",
   "language": "python",
   "name": "python3"
  },
  "language_info": {
   "codemirror_mode": {
    "name": "ipython",
    "version": 3
   },
   "file_extension": ".py",
   "mimetype": "text/x-python",
   "name": "python",
   "nbconvert_exporter": "python",
   "pygments_lexer": "ipython3",
   "version": "3.9.12"
  }
 },
 "nbformat": 4,
 "nbformat_minor": 5
}
